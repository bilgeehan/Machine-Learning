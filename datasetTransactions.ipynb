{
  "nbformat": 4,
  "nbformat_minor": 0,
  "metadata": {
    "colab": {
      "provenance": [],
      "authorship_tag": "ABX9TyMdyanZq+lCIeidKUpbo9NF"
    },
    "kernelspec": {
      "name": "python3",
      "display_name": "Python 3"
    },
    "language_info": {
      "name": "python"
    }
  },
  "cells": [
    {
      "cell_type": "code",
      "source": [
        "import numpy as np\n",
        "import pandas as pd\n",
        "import matplotlib.pyplot as plt\n",
        "from sklearn.preprocessing import StandardScaler\n",
        "from sklearn.decomposition import PCA\n",
        "from sklearn.discriminant_analysis import LinearDiscriminantAnalysis\n",
        "from sklearn.model_selection import train_test_split\n",
        "from sklearn.linear_model import LogisticRegression\n",
        "from sklearn.linear_model import LinearRegression\n",
        "from sklearn.metrics import mean_squared_error\n",
        "from sklearn.metrics import confusion_matrix, classification_report\n",
        "from sklearn.tree import DecisionTreeClassifier\n",
        "from sklearn.tree import export_graphviz\n",
        "from IPython.display import Image\n",
        "import pydotplus\n",
        "from sklearn.metrics import roc_curve, auc\n",
        "\n"
      ],
      "metadata": {
        "id": "hyXdkt1eAx3j"
      },
      "execution_count": 48,
      "outputs": []
    },
    {
      "cell_type": "markdown",
      "source": [
        "*Burada veri setini yüklüyorum ve özellikleri X ve y olarak ayarlıyorum*"
      ],
      "metadata": {
        "id": "vIyaRztuBvdp"
      }
    },
    {
      "cell_type": "code",
      "source": [
        "df = pd.read_csv('diabetes.csv')\n",
        "X = df.drop('Outcome', axis=1).values\n",
        "y = df['Outcome'].values\n"
      ],
      "metadata": {
        "id": "B8C4iM8CA1_Q"
      },
      "execution_count": 4,
      "outputs": []
    },
    {
      "cell_type": "markdown",
      "source": [
        "*Verileri ölçeklendirip PCA ve LDA hesaplıyorum*\n",
        "\n"
      ],
      "metadata": {
        "id": "9ai2YQk2Bynj"
      }
    },
    {
      "cell_type": "code",
      "source": [
        "scaler = StandardScaler()\n",
        "X = scaler.fit_transform(X)\n"
      ],
      "metadata": {
        "id": "fvo5aQzUA5QI"
      },
      "execution_count": 5,
      "outputs": []
    },
    {
      "cell_type": "markdown",
      "source": [
        "*PCA VE LDA için boyut indirgeme işlemi yapıyorum*\n",
        "\n"
      ],
      "metadata": {
        "id": "O4texMBUBztA"
      }
    },
    {
      "cell_type": "code",
      "source": [
        "pca = PCA(n_components=2)\n",
        "X_pca = pca.fit_transform(X)\n",
        "lda = LinearDiscriminantAnalysis(n_components=1)\n",
        "X_lda = lda.fit_transform(X, y)"
      ],
      "metadata": {
        "id": "9hOT816tA7dx"
      },
      "execution_count": 19,
      "outputs": []
    },
    {
      "cell_type": "markdown",
      "source": [
        "*En yüksek iki özdeğer için PCA ve LDA'da hangis daha ayırt edici*"
      ],
      "metadata": {
        "id": "8BckUwMvB6Ao"
      }
    },
    {
      "cell_type": "code",
      "source": [
        "print('PCA : ', pca.explained_variance_ratio_)\n",
        "\n",
        "print('LDA : ', lda.explained_variance_ratio_)\n"
      ],
      "metadata": {
        "colab": {
          "base_uri": "https://localhost:8080/"
        },
        "id": "nrgS8eEDBgk0",
        "outputId": "cd63ceea-b4d5-420c-8439-3f901baf6742"
      },
      "execution_count": 35,
      "outputs": [
        {
          "output_type": "stream",
          "name": "stdout",
          "text": [
            "PCA :  [0.26179749 0.21640127]\n",
            "LDA :  [1.]\n"
          ]
        }
      ]
    },
    {
      "cell_type": "markdown",
      "source": [
        "*Bu sonuca göre LDA'nın PCA'dan daha yüksek performans gösterir*"
      ],
      "metadata": {
        "id": "gxwpknY9B-kT"
      }
    },
    {
      "cell_type": "markdown",
      "source": [
        "Veri setini %70 eğitim ve %30 test olarak rastgele ikiye ayırıyoruz"
      ],
      "metadata": {
        "id": "2P8HCti_G-3A"
      }
    },
    {
      "cell_type": "code",
      "source": [
        "\n",
        "X_train, X_test, y_train, y_test = train_test_split(X, y, test_size=0.3, random_state=42)\n"
      ],
      "metadata": {
        "id": "r34g-vqxG81_"
      },
      "execution_count": 36,
      "outputs": []
    },
    {
      "cell_type": "markdown",
      "source": [
        "Burada, X_train ve y_train, %70'lik eğitim veri setini, X_test ve y_test ise %30'luk test veri setini temsil eder.\n",
        "\n"
      ],
      "metadata": {
        "id": "yccdaa93HEcA"
      }
    },
    {
      "cell_type": "markdown",
      "source": [
        "Çoklu Doğrusal Regresyon Analizi\n"
      ],
      "metadata": {
        "id": "dIk8kq5ZHOPa"
      }
    },
    {
      "cell_type": "code",
      "source": [
        "mlr = LinearRegression()\n",
        "mlr.fit(X_train, y_train)\n",
        "print('Çoklu Doğrusal Regresyon Katsayıları:', mlr.coef_)\n",
        "\n",
        "y_pred = mlr.predict(X_test)\n",
        "mse = mean_squared_error(y_test, y_pred)\n",
        "print('Ortalama Karesel Hata:', mse)\n"
      ],
      "metadata": {
        "colab": {
          "base_uri": "https://localhost:8080/"
        },
        "id": "aBO2JsHVHBqd",
        "outputId": "58db819c-1f96-49d3-db50-c0d5b01ac76f"
      },
      "execution_count": 41,
      "outputs": [
        {
          "output_type": "stream",
          "name": "stdout",
          "text": [
            "Çoklu Doğrusal Regresyon Katsayıları: [ 0.00899394  0.00574161 -0.00171114 -0.00025321 -0.0001265   0.01617347\n",
            "  0.07290169  0.0062645 ]\n",
            "Ortalama Karesel Hata: 0.17603335005142037\n"
          ]
        }
      ]
    },
    {
      "cell_type": "markdown",
      "source": [
        "Multinominal Lojistik Regresyon Analizi\n"
      ],
      "metadata": {
        "id": "uWpxb4goHLjW"
      }
    },
    {
      "cell_type": "code",
      "source": [
        "mlr = LogisticRegression(multi_class='multinomial', solver='lbfgs')\n",
        "mlr.fit(X_train, y_train)\n",
        "print('Multinominal Lojistik Regresyon Katsayıları:', mlr.coef_)\n",
        "\n",
        "y_pred = mlr.predict(X_test)\n",
        "\n",
        "conf_matrix = confusion_matrix(y_test, y_pred)\n",
        "print('Confusion Matrix:\\n', conf_matrix)\n",
        "\n",
        "report = classification_report(y_test, y_pred)\n",
        "print('Sınıflandırma Raporu:\\n', report)\n"
      ],
      "metadata": {
        "colab": {
          "base_uri": "https://localhost:8080/"
        },
        "id": "Pka8h77bHQZV",
        "outputId": "50e5bbc9-0cf0-4ff1-82a3-b1864cb2f85d"
      },
      "execution_count": 40,
      "outputs": [
        {
          "output_type": "stream",
          "name": "stdout",
          "text": [
            "Multinominal Lojistik Regresyon Katsayıları: [[ 0.02959726  0.01762234 -0.0055344  -0.00113131 -0.00047468  0.05408245\n",
            "   0.25281856  0.01779478]]\n",
            "Confusion Matrix:\n",
            " [[121  30]\n",
            " [ 30  50]]\n",
            "Sınıflandırma Raporu:\n",
            "               precision    recall  f1-score   support\n",
            "\n",
            "           0       0.80      0.80      0.80       151\n",
            "           1       0.62      0.62      0.62        80\n",
            "\n",
            "    accuracy                           0.74       231\n",
            "   macro avg       0.71      0.71      0.71       231\n",
            "weighted avg       0.74      0.74      0.74       231\n",
            "\n"
          ]
        },
        {
          "output_type": "stream",
          "name": "stderr",
          "text": [
            "/usr/local/lib/python3.9/dist-packages/sklearn/linear_model/_logistic.py:458: ConvergenceWarning: lbfgs failed to converge (status=1):\n",
            "STOP: TOTAL NO. of ITERATIONS REACHED LIMIT.\n",
            "\n",
            "Increase the number of iterations (max_iter) or scale the data as shown in:\n",
            "    https://scikit-learn.org/stable/modules/preprocessing.html\n",
            "Please also refer to the documentation for alternative solver options:\n",
            "    https://scikit-learn.org/stable/modules/linear_model.html#logistic-regression\n",
            "  n_iter_i = _check_optimize_result(\n"
          ]
        }
      ]
    },
    {
      "cell_type": "code",
      "source": [
        "X = df.iloc[:, :-1].values\n",
        "y = df.iloc[:, -1].values\n"
      ],
      "metadata": {
        "id": "IU1yhnHDHwXr"
      },
      "execution_count": 39,
      "outputs": []
    },
    {
      "cell_type": "code",
      "source": [
        "classifier = DecisionTreeClassifier(random_state=42)\n",
        "classifier.fit(X_train, y_train)\n"
      ],
      "metadata": {
        "colab": {
          "base_uri": "https://localhost:8080/",
          "height": 75
        },
        "id": "uXWMHzvmH6QR",
        "outputId": "5d90a70b-803d-4cb1-c8d3-43ec8c89207e"
      },
      "execution_count": 43,
      "outputs": [
        {
          "output_type": "execute_result",
          "data": {
            "text/plain": [
              "DecisionTreeClassifier(random_state=42)"
            ],
            "text/html": [
              "<style>#sk-container-id-3 {color: black;background-color: white;}#sk-container-id-3 pre{padding: 0;}#sk-container-id-3 div.sk-toggleable {background-color: white;}#sk-container-id-3 label.sk-toggleable__label {cursor: pointer;display: block;width: 100%;margin-bottom: 0;padding: 0.3em;box-sizing: border-box;text-align: center;}#sk-container-id-3 label.sk-toggleable__label-arrow:before {content: \"▸\";float: left;margin-right: 0.25em;color: #696969;}#sk-container-id-3 label.sk-toggleable__label-arrow:hover:before {color: black;}#sk-container-id-3 div.sk-estimator:hover label.sk-toggleable__label-arrow:before {color: black;}#sk-container-id-3 div.sk-toggleable__content {max-height: 0;max-width: 0;overflow: hidden;text-align: left;background-color: #f0f8ff;}#sk-container-id-3 div.sk-toggleable__content pre {margin: 0.2em;color: black;border-radius: 0.25em;background-color: #f0f8ff;}#sk-container-id-3 input.sk-toggleable__control:checked~div.sk-toggleable__content {max-height: 200px;max-width: 100%;overflow: auto;}#sk-container-id-3 input.sk-toggleable__control:checked~label.sk-toggleable__label-arrow:before {content: \"▾\";}#sk-container-id-3 div.sk-estimator input.sk-toggleable__control:checked~label.sk-toggleable__label {background-color: #d4ebff;}#sk-container-id-3 div.sk-label input.sk-toggleable__control:checked~label.sk-toggleable__label {background-color: #d4ebff;}#sk-container-id-3 input.sk-hidden--visually {border: 0;clip: rect(1px 1px 1px 1px);clip: rect(1px, 1px, 1px, 1px);height: 1px;margin: -1px;overflow: hidden;padding: 0;position: absolute;width: 1px;}#sk-container-id-3 div.sk-estimator {font-family: monospace;background-color: #f0f8ff;border: 1px dotted black;border-radius: 0.25em;box-sizing: border-box;margin-bottom: 0.5em;}#sk-container-id-3 div.sk-estimator:hover {background-color: #d4ebff;}#sk-container-id-3 div.sk-parallel-item::after {content: \"\";width: 100%;border-bottom: 1px solid gray;flex-grow: 1;}#sk-container-id-3 div.sk-label:hover label.sk-toggleable__label {background-color: #d4ebff;}#sk-container-id-3 div.sk-serial::before {content: \"\";position: absolute;border-left: 1px solid gray;box-sizing: border-box;top: 0;bottom: 0;left: 50%;z-index: 0;}#sk-container-id-3 div.sk-serial {display: flex;flex-direction: column;align-items: center;background-color: white;padding-right: 0.2em;padding-left: 0.2em;position: relative;}#sk-container-id-3 div.sk-item {position: relative;z-index: 1;}#sk-container-id-3 div.sk-parallel {display: flex;align-items: stretch;justify-content: center;background-color: white;position: relative;}#sk-container-id-3 div.sk-item::before, #sk-container-id-3 div.sk-parallel-item::before {content: \"\";position: absolute;border-left: 1px solid gray;box-sizing: border-box;top: 0;bottom: 0;left: 50%;z-index: -1;}#sk-container-id-3 div.sk-parallel-item {display: flex;flex-direction: column;z-index: 1;position: relative;background-color: white;}#sk-container-id-3 div.sk-parallel-item:first-child::after {align-self: flex-end;width: 50%;}#sk-container-id-3 div.sk-parallel-item:last-child::after {align-self: flex-start;width: 50%;}#sk-container-id-3 div.sk-parallel-item:only-child::after {width: 0;}#sk-container-id-3 div.sk-dashed-wrapped {border: 1px dashed gray;margin: 0 0.4em 0.5em 0.4em;box-sizing: border-box;padding-bottom: 0.4em;background-color: white;}#sk-container-id-3 div.sk-label label {font-family: monospace;font-weight: bold;display: inline-block;line-height: 1.2em;}#sk-container-id-3 div.sk-label-container {text-align: center;}#sk-container-id-3 div.sk-container {/* jupyter's `normalize.less` sets `[hidden] { display: none; }` but bootstrap.min.css set `[hidden] { display: none !important; }` so we also need the `!important` here to be able to override the default hidden behavior on the sphinx rendered scikit-learn.org. See: https://github.com/scikit-learn/scikit-learn/issues/21755 */display: inline-block !important;position: relative;}#sk-container-id-3 div.sk-text-repr-fallback {display: none;}</style><div id=\"sk-container-id-3\" class=\"sk-top-container\"><div class=\"sk-text-repr-fallback\"><pre>DecisionTreeClassifier(random_state=42)</pre><b>In a Jupyter environment, please rerun this cell to show the HTML representation or trust the notebook. <br />On GitHub, the HTML representation is unable to render, please try loading this page with nbviewer.org.</b></div><div class=\"sk-container\" hidden><div class=\"sk-item\"><div class=\"sk-estimator sk-toggleable\"><input class=\"sk-toggleable__control sk-hidden--visually\" id=\"sk-estimator-id-3\" type=\"checkbox\" checked><label for=\"sk-estimator-id-3\" class=\"sk-toggleable__label sk-toggleable__label-arrow\">DecisionTreeClassifier</label><div class=\"sk-toggleable__content\"><pre>DecisionTreeClassifier(random_state=42)</pre></div></div></div></div></div>"
            ]
          },
          "metadata": {},
          "execution_count": 43
        }
      ]
    },
    {
      "cell_type": "code",
      "source": [
        "y_pred = classifier.predict(X_test)\n"
      ],
      "metadata": {
        "id": "FodVCcrZH-FG"
      },
      "execution_count": 28,
      "outputs": []
    },
    {
      "cell_type": "code",
      "source": [
        "cm = confusion_matrix(y_test, y_pred)\n",
        "print(\"Confusion Matrix:\")\n",
        "print(cm)\n",
        "\n",
        "cr = classification_report(y_test, y_pred)\n",
        "print(\"Classification Report:\")\n",
        "print(cr)\n",
        "\n",
        "fpr, tpr, thresholds = roc_curve(y_test, y_pred)\n",
        "roc_auc = auc(fpr, tpr)\n",
        "\n",
        "print(\"ROC Curve (AUC = {:.2f}):\".format(roc_auc))\n"
      ],
      "metadata": {
        "id": "w081F-kYSpqf"
      },
      "execution_count": null,
      "outputs": []
    },
    {
      "cell_type": "code",
      "source": [
        "Sex <= 0.5\n",
        "|   Age <= 28.5\n",
        "|   |   BMI <= 45.1\n",
        "|   |   |   Glucose <= 127.5 : Negative (10/0)\n",
        "|   |   |   Glucose > 127.5\n",
        "|   |   |   |   DiabetesPedigreeFunction <= 0.52 : Negative (4/0)\n",
        "|   |   |   |   DiabetesPedigreeFunction > 0.52 : Positive (2/0)\n",
        "|   |   BMI > 45.1 : Positive (5/1)\n",
        "|   Age > 28.5\n",
        "|   |   Glucose <= 133.5\n",
        "|   |   |   BloodPressure <= 66.5\n",
        "|   |   |   |   DiabetesPedigreeFunction <= 0.325 : Positive (2/0)\n",
        "|   |   |   |   DiabetesPedigreeFunction > 0.325 : Negative (10/1)\n",
        "|   |   |   BloodPressure > 66.5 : Negative (11/0)\n",
        "|   |   Glucose > 133.5\n",
        "|   |   |   BMI <= 26.3 : Positive (3/0)\n",
        "|   |   |   BMI > 26.3 : Negative (5/0)\n",
        "Sex > 0.5\n",
        "|   Glucose <= 127.5\n",
        "|   |   BMI <= 45.4 : Negative (32/4)\n",
        "|   |   BMI > 45.4 : Positive (2/0)\n",
        "|   Glucose > 127.5\n",
        "|   |   Age <= 29.5\n",
        "|   |   |   BMI <= 45.1 : Positive (8/0)\n",
        "|   |   |   BMI > 45.1 : Negative (4/0)\n",
        "|   |   Age > 29.5 : Positive (25/3)\n"
      ],
      "metadata": {
        "id": "rU0iwSupJGO6"
      },
      "execution_count": null,
      "outputs": []
    }
  ]
}